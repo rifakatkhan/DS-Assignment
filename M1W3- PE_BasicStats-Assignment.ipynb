{
 "cells": [
  {
   "cell_type": "markdown",
   "metadata": {},
   "source": [
    "# 1.Import necessary packages"
   ]
  },
  {
   "cell_type": "code",
   "execution_count": 2,
   "metadata": {},
   "outputs": [],
   "source": [
    "import pandas as pd\n",
    "import numpy as np\n",
    "import matplotlib.pyplot as plt\n",
    "%matplotlib inline\n",
    "import seaborn as sns\n",
    "import warnings\n",
    "warnings.filterwarnings(\"ignore\")"
   ]
  },
  {
   "cell_type": "markdown",
   "metadata": {},
   "source": [
    "# 2.Load the file"
   ]
  },
  {
   "cell_type": "code",
   "execution_count": 4,
   "metadata": {},
   "outputs": [],
   "source": [
    "Df=pd.read_csv(\"Inc_Exp_Data.csv\")"
   ]
  },
  {
   "cell_type": "markdown",
   "metadata": {},
   "source": [
    "# 3.Analyze the data"
   ]
  },
  {
   "cell_type": "code",
   "execution_count": 6,
   "metadata": {
    "scrolled": true
   },
   "outputs": [
    {
     "data": {
      "text/html": [
       "<div>\n",
       "<style scoped>\n",
       "    .dataframe tbody tr th:only-of-type {\n",
       "        vertical-align: middle;\n",
       "    }\n",
       "\n",
       "    .dataframe tbody tr th {\n",
       "        vertical-align: top;\n",
       "    }\n",
       "\n",
       "    .dataframe thead th {\n",
       "        text-align: right;\n",
       "    }\n",
       "</style>\n",
       "<table border=\"1\" class=\"dataframe\">\n",
       "  <thead>\n",
       "    <tr style=\"text-align: right;\">\n",
       "      <th></th>\n",
       "      <th>Mthly_HH_Income</th>\n",
       "      <th>Mthly_HH_Expense</th>\n",
       "      <th>No_of_Fly_Members</th>\n",
       "      <th>Emi_or_Rent_Amt</th>\n",
       "      <th>Annual_HH_Income</th>\n",
       "      <th>Highest_Qualified_Member</th>\n",
       "      <th>No_of_Earning_Members</th>\n",
       "    </tr>\n",
       "  </thead>\n",
       "  <tbody>\n",
       "    <tr>\n",
       "      <th>0</th>\n",
       "      <td>5000</td>\n",
       "      <td>8000</td>\n",
       "      <td>3</td>\n",
       "      <td>2000</td>\n",
       "      <td>64200</td>\n",
       "      <td>Under-Graduate</td>\n",
       "      <td>1</td>\n",
       "    </tr>\n",
       "    <tr>\n",
       "      <th>1</th>\n",
       "      <td>6000</td>\n",
       "      <td>7000</td>\n",
       "      <td>2</td>\n",
       "      <td>3000</td>\n",
       "      <td>79920</td>\n",
       "      <td>Illiterate</td>\n",
       "      <td>1</td>\n",
       "    </tr>\n",
       "    <tr>\n",
       "      <th>2</th>\n",
       "      <td>10000</td>\n",
       "      <td>4500</td>\n",
       "      <td>2</td>\n",
       "      <td>0</td>\n",
       "      <td>112800</td>\n",
       "      <td>Under-Graduate</td>\n",
       "      <td>1</td>\n",
       "    </tr>\n",
       "    <tr>\n",
       "      <th>3</th>\n",
       "      <td>10000</td>\n",
       "      <td>2000</td>\n",
       "      <td>1</td>\n",
       "      <td>0</td>\n",
       "      <td>97200</td>\n",
       "      <td>Illiterate</td>\n",
       "      <td>1</td>\n",
       "    </tr>\n",
       "    <tr>\n",
       "      <th>4</th>\n",
       "      <td>12500</td>\n",
       "      <td>12000</td>\n",
       "      <td>2</td>\n",
       "      <td>3000</td>\n",
       "      <td>147000</td>\n",
       "      <td>Graduate</td>\n",
       "      <td>1</td>\n",
       "    </tr>\n",
       "    <tr>\n",
       "      <th>5</th>\n",
       "      <td>14000</td>\n",
       "      <td>8000</td>\n",
       "      <td>2</td>\n",
       "      <td>0</td>\n",
       "      <td>196560</td>\n",
       "      <td>Graduate</td>\n",
       "      <td>1</td>\n",
       "    </tr>\n",
       "    <tr>\n",
       "      <th>6</th>\n",
       "      <td>15000</td>\n",
       "      <td>16000</td>\n",
       "      <td>3</td>\n",
       "      <td>35000</td>\n",
       "      <td>167400</td>\n",
       "      <td>Post-Graduate</td>\n",
       "      <td>1</td>\n",
       "    </tr>\n",
       "    <tr>\n",
       "      <th>7</th>\n",
       "      <td>18000</td>\n",
       "      <td>20000</td>\n",
       "      <td>5</td>\n",
       "      <td>8000</td>\n",
       "      <td>216000</td>\n",
       "      <td>Graduate</td>\n",
       "      <td>1</td>\n",
       "    </tr>\n",
       "    <tr>\n",
       "      <th>8</th>\n",
       "      <td>19000</td>\n",
       "      <td>9000</td>\n",
       "      <td>2</td>\n",
       "      <td>0</td>\n",
       "      <td>218880</td>\n",
       "      <td>Under-Graduate</td>\n",
       "      <td>1</td>\n",
       "    </tr>\n",
       "    <tr>\n",
       "      <th>9</th>\n",
       "      <td>20000</td>\n",
       "      <td>9000</td>\n",
       "      <td>4</td>\n",
       "      <td>0</td>\n",
       "      <td>220800</td>\n",
       "      <td>Under-Graduate</td>\n",
       "      <td>2</td>\n",
       "    </tr>\n",
       "    <tr>\n",
       "      <th>10</th>\n",
       "      <td>20000</td>\n",
       "      <td>18000</td>\n",
       "      <td>4</td>\n",
       "      <td>8000</td>\n",
       "      <td>278400</td>\n",
       "      <td>Under-Graduate</td>\n",
       "      <td>2</td>\n",
       "    </tr>\n",
       "    <tr>\n",
       "      <th>11</th>\n",
       "      <td>22000</td>\n",
       "      <td>25000</td>\n",
       "      <td>6</td>\n",
       "      <td>12000</td>\n",
       "      <td>279840</td>\n",
       "      <td>Illiterate</td>\n",
       "      <td>1</td>\n",
       "    </tr>\n",
       "    <tr>\n",
       "      <th>12</th>\n",
       "      <td>23400</td>\n",
       "      <td>5000</td>\n",
       "      <td>3</td>\n",
       "      <td>0</td>\n",
       "      <td>292032</td>\n",
       "      <td>Illiterate</td>\n",
       "      <td>1</td>\n",
       "    </tr>\n",
       "    <tr>\n",
       "      <th>13</th>\n",
       "      <td>24000</td>\n",
       "      <td>10500</td>\n",
       "      <td>6</td>\n",
       "      <td>0</td>\n",
       "      <td>316800</td>\n",
       "      <td>Graduate</td>\n",
       "      <td>2</td>\n",
       "    </tr>\n",
       "    <tr>\n",
       "      <th>14</th>\n",
       "      <td>24000</td>\n",
       "      <td>10000</td>\n",
       "      <td>4</td>\n",
       "      <td>0</td>\n",
       "      <td>244800</td>\n",
       "      <td>Graduate</td>\n",
       "      <td>2</td>\n",
       "    </tr>\n",
       "    <tr>\n",
       "      <th>15</th>\n",
       "      <td>25000</td>\n",
       "      <td>12300</td>\n",
       "      <td>3</td>\n",
       "      <td>0</td>\n",
       "      <td>246000</td>\n",
       "      <td>Graduate</td>\n",
       "      <td>1</td>\n",
       "    </tr>\n",
       "    <tr>\n",
       "      <th>16</th>\n",
       "      <td>25000</td>\n",
       "      <td>20000</td>\n",
       "      <td>3</td>\n",
       "      <td>3500</td>\n",
       "      <td>261000</td>\n",
       "      <td>Graduate</td>\n",
       "      <td>1</td>\n",
       "    </tr>\n",
       "    <tr>\n",
       "      <th>17</th>\n",
       "      <td>25000</td>\n",
       "      <td>10000</td>\n",
       "      <td>6</td>\n",
       "      <td>0</td>\n",
       "      <td>258000</td>\n",
       "      <td>Under-Graduate</td>\n",
       "      <td>3</td>\n",
       "    </tr>\n",
       "    <tr>\n",
       "      <th>18</th>\n",
       "      <td>29000</td>\n",
       "      <td>6600</td>\n",
       "      <td>2</td>\n",
       "      <td>2000</td>\n",
       "      <td>348000</td>\n",
       "      <td>Graduate</td>\n",
       "      <td>1</td>\n",
       "    </tr>\n",
       "    <tr>\n",
       "      <th>19</th>\n",
       "      <td>30000</td>\n",
       "      <td>13000</td>\n",
       "      <td>4</td>\n",
       "      <td>0</td>\n",
       "      <td>385200</td>\n",
       "      <td>Graduate</td>\n",
       "      <td>1</td>\n",
       "    </tr>\n",
       "    <tr>\n",
       "      <th>20</th>\n",
       "      <td>30500</td>\n",
       "      <td>25000</td>\n",
       "      <td>5</td>\n",
       "      <td>5000</td>\n",
       "      <td>351360</td>\n",
       "      <td>Under-Graduate</td>\n",
       "      <td>1</td>\n",
       "    </tr>\n",
       "    <tr>\n",
       "      <th>21</th>\n",
       "      <td>32000</td>\n",
       "      <td>15000</td>\n",
       "      <td>4</td>\n",
       "      <td>0</td>\n",
       "      <td>445440</td>\n",
       "      <td>Professional</td>\n",
       "      <td>1</td>\n",
       "    </tr>\n",
       "    <tr>\n",
       "      <th>22</th>\n",
       "      <td>34000</td>\n",
       "      <td>19000</td>\n",
       "      <td>6</td>\n",
       "      <td>0</td>\n",
       "      <td>330480</td>\n",
       "      <td>Professional</td>\n",
       "      <td>1</td>\n",
       "    </tr>\n",
       "    <tr>\n",
       "      <th>23</th>\n",
       "      <td>34000</td>\n",
       "      <td>25000</td>\n",
       "      <td>3</td>\n",
       "      <td>4000</td>\n",
       "      <td>469200</td>\n",
       "      <td>Professional</td>\n",
       "      <td>1</td>\n",
       "    </tr>\n",
       "    <tr>\n",
       "      <th>24</th>\n",
       "      <td>35000</td>\n",
       "      <td>12000</td>\n",
       "      <td>3</td>\n",
       "      <td>0</td>\n",
       "      <td>466200</td>\n",
       "      <td>Graduate</td>\n",
       "      <td>1</td>\n",
       "    </tr>\n",
       "    <tr>\n",
       "      <th>25</th>\n",
       "      <td>35000</td>\n",
       "      <td>25000</td>\n",
       "      <td>4</td>\n",
       "      <td>0</td>\n",
       "      <td>449400</td>\n",
       "      <td>Professional</td>\n",
       "      <td>2</td>\n",
       "    </tr>\n",
       "    <tr>\n",
       "      <th>26</th>\n",
       "      <td>39000</td>\n",
       "      <td>8000</td>\n",
       "      <td>4</td>\n",
       "      <td>0</td>\n",
       "      <td>556920</td>\n",
       "      <td>Under-Graduate</td>\n",
       "      <td>1</td>\n",
       "    </tr>\n",
       "    <tr>\n",
       "      <th>27</th>\n",
       "      <td>40000</td>\n",
       "      <td>10000</td>\n",
       "      <td>4</td>\n",
       "      <td>0</td>\n",
       "      <td>412800</td>\n",
       "      <td>Under-Graduate</td>\n",
       "      <td>1</td>\n",
       "    </tr>\n",
       "    <tr>\n",
       "      <th>28</th>\n",
       "      <td>42000</td>\n",
       "      <td>15000</td>\n",
       "      <td>4</td>\n",
       "      <td>0</td>\n",
       "      <td>488880</td>\n",
       "      <td>Graduate</td>\n",
       "      <td>1</td>\n",
       "    </tr>\n",
       "    <tr>\n",
       "      <th>29</th>\n",
       "      <td>43000</td>\n",
       "      <td>12000</td>\n",
       "      <td>4</td>\n",
       "      <td>0</td>\n",
       "      <td>619200</td>\n",
       "      <td>Graduate</td>\n",
       "      <td>1</td>\n",
       "    </tr>\n",
       "    <tr>\n",
       "      <th>30</th>\n",
       "      <td>45000</td>\n",
       "      <td>25000</td>\n",
       "      <td>6</td>\n",
       "      <td>0</td>\n",
       "      <td>523800</td>\n",
       "      <td>Graduate</td>\n",
       "      <td>3</td>\n",
       "    </tr>\n",
       "    <tr>\n",
       "      <th>31</th>\n",
       "      <td>45000</td>\n",
       "      <td>40000</td>\n",
       "      <td>6</td>\n",
       "      <td>3500</td>\n",
       "      <td>507600</td>\n",
       "      <td>Professional</td>\n",
       "      <td>2</td>\n",
       "    </tr>\n",
       "    <tr>\n",
       "      <th>32</th>\n",
       "      <td>45000</td>\n",
       "      <td>10000</td>\n",
       "      <td>2</td>\n",
       "      <td>1000</td>\n",
       "      <td>437400</td>\n",
       "      <td>Post-Graduate</td>\n",
       "      <td>1</td>\n",
       "    </tr>\n",
       "    <tr>\n",
       "      <th>33</th>\n",
       "      <td>45000</td>\n",
       "      <td>22000</td>\n",
       "      <td>4</td>\n",
       "      <td>2500</td>\n",
       "      <td>610200</td>\n",
       "      <td>Post-Graduate</td>\n",
       "      <td>1</td>\n",
       "    </tr>\n",
       "    <tr>\n",
       "      <th>34</th>\n",
       "      <td>46000</td>\n",
       "      <td>25000</td>\n",
       "      <td>5</td>\n",
       "      <td>3500</td>\n",
       "      <td>596160</td>\n",
       "      <td>Graduate</td>\n",
       "      <td>1</td>\n",
       "    </tr>\n",
       "    <tr>\n",
       "      <th>35</th>\n",
       "      <td>47000</td>\n",
       "      <td>15000</td>\n",
       "      <td>7</td>\n",
       "      <td>0</td>\n",
       "      <td>456840</td>\n",
       "      <td>Professional</td>\n",
       "      <td>4</td>\n",
       "    </tr>\n",
       "    <tr>\n",
       "      <th>36</th>\n",
       "      <td>50000</td>\n",
       "      <td>20000</td>\n",
       "      <td>4</td>\n",
       "      <td>0</td>\n",
       "      <td>570000</td>\n",
       "      <td>Professional</td>\n",
       "      <td>1</td>\n",
       "    </tr>\n",
       "    <tr>\n",
       "      <th>37</th>\n",
       "      <td>50500</td>\n",
       "      <td>20000</td>\n",
       "      <td>3</td>\n",
       "      <td>0</td>\n",
       "      <td>581760</td>\n",
       "      <td>Professional</td>\n",
       "      <td>2</td>\n",
       "    </tr>\n",
       "    <tr>\n",
       "      <th>38</th>\n",
       "      <td>55000</td>\n",
       "      <td>45000</td>\n",
       "      <td>6</td>\n",
       "      <td>12000</td>\n",
       "      <td>600600</td>\n",
       "      <td>Graduate</td>\n",
       "      <td>2</td>\n",
       "    </tr>\n",
       "    <tr>\n",
       "      <th>39</th>\n",
       "      <td>60000</td>\n",
       "      <td>10000</td>\n",
       "      <td>3</td>\n",
       "      <td>0</td>\n",
       "      <td>590400</td>\n",
       "      <td>Post-Graduate</td>\n",
       "      <td>1</td>\n",
       "    </tr>\n",
       "    <tr>\n",
       "      <th>40</th>\n",
       "      <td>60000</td>\n",
       "      <td>50000</td>\n",
       "      <td>6</td>\n",
       "      <td>10000</td>\n",
       "      <td>590400</td>\n",
       "      <td>Graduate</td>\n",
       "      <td>1</td>\n",
       "    </tr>\n",
       "    <tr>\n",
       "      <th>41</th>\n",
       "      <td>65000</td>\n",
       "      <td>20000</td>\n",
       "      <td>4</td>\n",
       "      <td>5000</td>\n",
       "      <td>647400</td>\n",
       "      <td>Illiterate</td>\n",
       "      <td>2</td>\n",
       "    </tr>\n",
       "    <tr>\n",
       "      <th>42</th>\n",
       "      <td>70000</td>\n",
       "      <td>9000</td>\n",
       "      <td>2</td>\n",
       "      <td>0</td>\n",
       "      <td>756000</td>\n",
       "      <td>Graduate</td>\n",
       "      <td>1</td>\n",
       "    </tr>\n",
       "    <tr>\n",
       "      <th>43</th>\n",
       "      <td>80000</td>\n",
       "      <td>20000</td>\n",
       "      <td>4</td>\n",
       "      <td>0</td>\n",
       "      <td>1075200</td>\n",
       "      <td>Graduate</td>\n",
       "      <td>1</td>\n",
       "    </tr>\n",
       "    <tr>\n",
       "      <th>44</th>\n",
       "      <td>85000</td>\n",
       "      <td>25000</td>\n",
       "      <td>5</td>\n",
       "      <td>0</td>\n",
       "      <td>1142400</td>\n",
       "      <td>Under-Graduate</td>\n",
       "      <td>2</td>\n",
       "    </tr>\n",
       "    <tr>\n",
       "      <th>45</th>\n",
       "      <td>90000</td>\n",
       "      <td>48000</td>\n",
       "      <td>7</td>\n",
       "      <td>0</td>\n",
       "      <td>885600</td>\n",
       "      <td>Post-Graduate</td>\n",
       "      <td>3</td>\n",
       "    </tr>\n",
       "    <tr>\n",
       "      <th>46</th>\n",
       "      <td>98000</td>\n",
       "      <td>25000</td>\n",
       "      <td>5</td>\n",
       "      <td>0</td>\n",
       "      <td>1152480</td>\n",
       "      <td>Professional</td>\n",
       "      <td>2</td>\n",
       "    </tr>\n",
       "    <tr>\n",
       "      <th>47</th>\n",
       "      <td>100000</td>\n",
       "      <td>30000</td>\n",
       "      <td>6</td>\n",
       "      <td>0</td>\n",
       "      <td>1404000</td>\n",
       "      <td>Graduate</td>\n",
       "      <td>3</td>\n",
       "    </tr>\n",
       "    <tr>\n",
       "      <th>48</th>\n",
       "      <td>100000</td>\n",
       "      <td>50000</td>\n",
       "      <td>4</td>\n",
       "      <td>20000</td>\n",
       "      <td>1032000</td>\n",
       "      <td>Professional</td>\n",
       "      <td>2</td>\n",
       "    </tr>\n",
       "    <tr>\n",
       "      <th>49</th>\n",
       "      <td>100000</td>\n",
       "      <td>40000</td>\n",
       "      <td>6</td>\n",
       "      <td>10000</td>\n",
       "      <td>1320000</td>\n",
       "      <td>Post-Graduate</td>\n",
       "      <td>1</td>\n",
       "    </tr>\n",
       "  </tbody>\n",
       "</table>\n",
       "</div>"
      ],
      "text/plain": [
       "    Mthly_HH_Income  Mthly_HH_Expense  No_of_Fly_Members  Emi_or_Rent_Amt  \\\n",
       "0              5000              8000                  3             2000   \n",
       "1              6000              7000                  2             3000   \n",
       "2             10000              4500                  2                0   \n",
       "3             10000              2000                  1                0   \n",
       "4             12500             12000                  2             3000   \n",
       "5             14000              8000                  2                0   \n",
       "6             15000             16000                  3            35000   \n",
       "7             18000             20000                  5             8000   \n",
       "8             19000              9000                  2                0   \n",
       "9             20000              9000                  4                0   \n",
       "10            20000             18000                  4             8000   \n",
       "11            22000             25000                  6            12000   \n",
       "12            23400              5000                  3                0   \n",
       "13            24000             10500                  6                0   \n",
       "14            24000             10000                  4                0   \n",
       "15            25000             12300                  3                0   \n",
       "16            25000             20000                  3             3500   \n",
       "17            25000             10000                  6                0   \n",
       "18            29000              6600                  2             2000   \n",
       "19            30000             13000                  4                0   \n",
       "20            30500             25000                  5             5000   \n",
       "21            32000             15000                  4                0   \n",
       "22            34000             19000                  6                0   \n",
       "23            34000             25000                  3             4000   \n",
       "24            35000             12000                  3                0   \n",
       "25            35000             25000                  4                0   \n",
       "26            39000              8000                  4                0   \n",
       "27            40000             10000                  4                0   \n",
       "28            42000             15000                  4                0   \n",
       "29            43000             12000                  4                0   \n",
       "30            45000             25000                  6                0   \n",
       "31            45000             40000                  6             3500   \n",
       "32            45000             10000                  2             1000   \n",
       "33            45000             22000                  4             2500   \n",
       "34            46000             25000                  5             3500   \n",
       "35            47000             15000                  7                0   \n",
       "36            50000             20000                  4                0   \n",
       "37            50500             20000                  3                0   \n",
       "38            55000             45000                  6            12000   \n",
       "39            60000             10000                  3                0   \n",
       "40            60000             50000                  6            10000   \n",
       "41            65000             20000                  4             5000   \n",
       "42            70000              9000                  2                0   \n",
       "43            80000             20000                  4                0   \n",
       "44            85000             25000                  5                0   \n",
       "45            90000             48000                  7                0   \n",
       "46            98000             25000                  5                0   \n",
       "47           100000             30000                  6                0   \n",
       "48           100000             50000                  4            20000   \n",
       "49           100000             40000                  6            10000   \n",
       "\n",
       "    Annual_HH_Income Highest_Qualified_Member  No_of_Earning_Members  \n",
       "0              64200           Under-Graduate                      1  \n",
       "1              79920               Illiterate                      1  \n",
       "2             112800           Under-Graduate                      1  \n",
       "3              97200               Illiterate                      1  \n",
       "4             147000                 Graduate                      1  \n",
       "5             196560                 Graduate                      1  \n",
       "6             167400            Post-Graduate                      1  \n",
       "7             216000                 Graduate                      1  \n",
       "8             218880           Under-Graduate                      1  \n",
       "9             220800           Under-Graduate                      2  \n",
       "10            278400           Under-Graduate                      2  \n",
       "11            279840               Illiterate                      1  \n",
       "12            292032               Illiterate                      1  \n",
       "13            316800                 Graduate                      2  \n",
       "14            244800                 Graduate                      2  \n",
       "15            246000                 Graduate                      1  \n",
       "16            261000                 Graduate                      1  \n",
       "17            258000           Under-Graduate                      3  \n",
       "18            348000                 Graduate                      1  \n",
       "19            385200                 Graduate                      1  \n",
       "20            351360           Under-Graduate                      1  \n",
       "21            445440             Professional                      1  \n",
       "22            330480             Professional                      1  \n",
       "23            469200             Professional                      1  \n",
       "24            466200                 Graduate                      1  \n",
       "25            449400             Professional                      2  \n",
       "26            556920           Under-Graduate                      1  \n",
       "27            412800           Under-Graduate                      1  \n",
       "28            488880                 Graduate                      1  \n",
       "29            619200                 Graduate                      1  \n",
       "30            523800                 Graduate                      3  \n",
       "31            507600             Professional                      2  \n",
       "32            437400            Post-Graduate                      1  \n",
       "33            610200            Post-Graduate                      1  \n",
       "34            596160                 Graduate                      1  \n",
       "35            456840             Professional                      4  \n",
       "36            570000             Professional                      1  \n",
       "37            581760             Professional                      2  \n",
       "38            600600                 Graduate                      2  \n",
       "39            590400            Post-Graduate                      1  \n",
       "40            590400                 Graduate                      1  \n",
       "41            647400               Illiterate                      2  \n",
       "42            756000                 Graduate                      1  \n",
       "43           1075200                 Graduate                      1  \n",
       "44           1142400           Under-Graduate                      2  \n",
       "45            885600            Post-Graduate                      3  \n",
       "46           1152480             Professional                      2  \n",
       "47           1404000                 Graduate                      3  \n",
       "48           1032000             Professional                      2  \n",
       "49           1320000            Post-Graduate                      1  "
      ]
     },
     "execution_count": 6,
     "metadata": {},
     "output_type": "execute_result"
    }
   ],
   "source": [
    "Df"
   ]
  },
  {
   "cell_type": "code",
   "execution_count": 8,
   "metadata": {
    "scrolled": true
   },
   "outputs": [
    {
     "name": "stdout",
     "output_type": "stream",
     "text": [
      "<class 'pandas.core.frame.DataFrame'>\n",
      "RangeIndex: 50 entries, 0 to 49\n",
      "Data columns (total 7 columns):\n",
      " #   Column                    Non-Null Count  Dtype \n",
      "---  ------                    --------------  ----- \n",
      " 0   Mthly_HH_Income           50 non-null     int64 \n",
      " 1   Mthly_HH_Expense          50 non-null     int64 \n",
      " 2   No_of_Fly_Members         50 non-null     int64 \n",
      " 3   Emi_or_Rent_Amt           50 non-null     int64 \n",
      " 4   Annual_HH_Income          50 non-null     int64 \n",
      " 5   Highest_Qualified_Member  50 non-null     object\n",
      " 6   No_of_Earning_Members     50 non-null     int64 \n",
      "dtypes: int64(6), object(1)\n",
      "memory usage: 2.9+ KB\n"
     ]
    }
   ],
   "source": [
    "Df.info()"
   ]
  },
  {
   "cell_type": "code",
   "execution_count": 5,
   "metadata": {},
   "outputs": [
    {
     "data": {
      "text/html": [
       "<div>\n",
       "<style scoped>\n",
       "    .dataframe tbody tr th:only-of-type {\n",
       "        vertical-align: middle;\n",
       "    }\n",
       "\n",
       "    .dataframe tbody tr th {\n",
       "        vertical-align: top;\n",
       "    }\n",
       "\n",
       "    .dataframe thead th {\n",
       "        text-align: right;\n",
       "    }\n",
       "</style>\n",
       "<table border=\"1\" class=\"dataframe\">\n",
       "  <thead>\n",
       "    <tr style=\"text-align: right;\">\n",
       "      <th></th>\n",
       "      <th>Mthly_HH_Income</th>\n",
       "      <th>Mthly_HH_Expense</th>\n",
       "      <th>No_of_Fly_Members</th>\n",
       "      <th>Emi_or_Rent_Amt</th>\n",
       "      <th>Annual_HH_Income</th>\n",
       "      <th>Highest_Qualified_Member</th>\n",
       "      <th>No_of_Earning_Members</th>\n",
       "    </tr>\n",
       "  </thead>\n",
       "  <tbody>\n",
       "    <tr>\n",
       "      <th>19</th>\n",
       "      <td>30000</td>\n",
       "      <td>13000</td>\n",
       "      <td>4</td>\n",
       "      <td>0</td>\n",
       "      <td>385200</td>\n",
       "      <td>Graduate</td>\n",
       "      <td>1</td>\n",
       "    </tr>\n",
       "    <tr>\n",
       "      <th>47</th>\n",
       "      <td>100000</td>\n",
       "      <td>30000</td>\n",
       "      <td>6</td>\n",
       "      <td>0</td>\n",
       "      <td>1404000</td>\n",
       "      <td>Graduate</td>\n",
       "      <td>3</td>\n",
       "    </tr>\n",
       "    <tr>\n",
       "      <th>3</th>\n",
       "      <td>10000</td>\n",
       "      <td>2000</td>\n",
       "      <td>1</td>\n",
       "      <td>0</td>\n",
       "      <td>97200</td>\n",
       "      <td>Illiterate</td>\n",
       "      <td>1</td>\n",
       "    </tr>\n",
       "    <tr>\n",
       "      <th>29</th>\n",
       "      <td>43000</td>\n",
       "      <td>12000</td>\n",
       "      <td>4</td>\n",
       "      <td>0</td>\n",
       "      <td>619200</td>\n",
       "      <td>Graduate</td>\n",
       "      <td>1</td>\n",
       "    </tr>\n",
       "    <tr>\n",
       "      <th>23</th>\n",
       "      <td>34000</td>\n",
       "      <td>25000</td>\n",
       "      <td>3</td>\n",
       "      <td>4000</td>\n",
       "      <td>469200</td>\n",
       "      <td>Professional</td>\n",
       "      <td>1</td>\n",
       "    </tr>\n",
       "    <tr>\n",
       "      <th>44</th>\n",
       "      <td>85000</td>\n",
       "      <td>25000</td>\n",
       "      <td>5</td>\n",
       "      <td>0</td>\n",
       "      <td>1142400</td>\n",
       "      <td>Under-Graduate</td>\n",
       "      <td>2</td>\n",
       "    </tr>\n",
       "    <tr>\n",
       "      <th>9</th>\n",
       "      <td>20000</td>\n",
       "      <td>9000</td>\n",
       "      <td>4</td>\n",
       "      <td>0</td>\n",
       "      <td>220800</td>\n",
       "      <td>Under-Graduate</td>\n",
       "      <td>2</td>\n",
       "    </tr>\n",
       "    <tr>\n",
       "      <th>4</th>\n",
       "      <td>12500</td>\n",
       "      <td>12000</td>\n",
       "      <td>2</td>\n",
       "      <td>3000</td>\n",
       "      <td>147000</td>\n",
       "      <td>Graduate</td>\n",
       "      <td>1</td>\n",
       "    </tr>\n",
       "    <tr>\n",
       "      <th>10</th>\n",
       "      <td>20000</td>\n",
       "      <td>18000</td>\n",
       "      <td>4</td>\n",
       "      <td>8000</td>\n",
       "      <td>278400</td>\n",
       "      <td>Under-Graduate</td>\n",
       "      <td>2</td>\n",
       "    </tr>\n",
       "    <tr>\n",
       "      <th>33</th>\n",
       "      <td>45000</td>\n",
       "      <td>22000</td>\n",
       "      <td>4</td>\n",
       "      <td>2500</td>\n",
       "      <td>610200</td>\n",
       "      <td>Post-Graduate</td>\n",
       "      <td>1</td>\n",
       "    </tr>\n",
       "    <tr>\n",
       "      <th>49</th>\n",
       "      <td>100000</td>\n",
       "      <td>40000</td>\n",
       "      <td>6</td>\n",
       "      <td>10000</td>\n",
       "      <td>1320000</td>\n",
       "      <td>Post-Graduate</td>\n",
       "      <td>1</td>\n",
       "    </tr>\n",
       "    <tr>\n",
       "      <th>5</th>\n",
       "      <td>14000</td>\n",
       "      <td>8000</td>\n",
       "      <td>2</td>\n",
       "      <td>0</td>\n",
       "      <td>196560</td>\n",
       "      <td>Graduate</td>\n",
       "      <td>1</td>\n",
       "    </tr>\n",
       "    <tr>\n",
       "      <th>20</th>\n",
       "      <td>30500</td>\n",
       "      <td>25000</td>\n",
       "      <td>5</td>\n",
       "      <td>5000</td>\n",
       "      <td>351360</td>\n",
       "      <td>Under-Graduate</td>\n",
       "      <td>1</td>\n",
       "    </tr>\n",
       "    <tr>\n",
       "      <th>41</th>\n",
       "      <td>65000</td>\n",
       "      <td>20000</td>\n",
       "      <td>4</td>\n",
       "      <td>5000</td>\n",
       "      <td>647400</td>\n",
       "      <td>Illiterate</td>\n",
       "      <td>2</td>\n",
       "    </tr>\n",
       "    <tr>\n",
       "      <th>11</th>\n",
       "      <td>22000</td>\n",
       "      <td>25000</td>\n",
       "      <td>6</td>\n",
       "      <td>12000</td>\n",
       "      <td>279840</td>\n",
       "      <td>Illiterate</td>\n",
       "      <td>1</td>\n",
       "    </tr>\n",
       "  </tbody>\n",
       "</table>\n",
       "</div>"
      ],
      "text/plain": [
       "    Mthly_HH_Income  Mthly_HH_Expense  No_of_Fly_Members  Emi_or_Rent_Amt  \\\n",
       "19            30000             13000                  4                0   \n",
       "47           100000             30000                  6                0   \n",
       "3             10000              2000                  1                0   \n",
       "29            43000             12000                  4                0   \n",
       "23            34000             25000                  3             4000   \n",
       "44            85000             25000                  5                0   \n",
       "9             20000              9000                  4                0   \n",
       "4             12500             12000                  2             3000   \n",
       "10            20000             18000                  4             8000   \n",
       "33            45000             22000                  4             2500   \n",
       "49           100000             40000                  6            10000   \n",
       "5             14000              8000                  2                0   \n",
       "20            30500             25000                  5             5000   \n",
       "41            65000             20000                  4             5000   \n",
       "11            22000             25000                  6            12000   \n",
       "\n",
       "    Annual_HH_Income Highest_Qualified_Member  No_of_Earning_Members  \n",
       "19            385200                 Graduate                      1  \n",
       "47           1404000                 Graduate                      3  \n",
       "3              97200               Illiterate                      1  \n",
       "29            619200                 Graduate                      1  \n",
       "23            469200             Professional                      1  \n",
       "44           1142400           Under-Graduate                      2  \n",
       "9             220800           Under-Graduate                      2  \n",
       "4             147000                 Graduate                      1  \n",
       "10            278400           Under-Graduate                      2  \n",
       "33            610200            Post-Graduate                      1  \n",
       "49           1320000            Post-Graduate                      1  \n",
       "5             196560                 Graduate                      1  \n",
       "20            351360           Under-Graduate                      1  \n",
       "41            647400               Illiterate                      2  \n",
       "11            279840               Illiterate                      1  "
      ]
     },
     "execution_count": 5,
     "metadata": {},
     "output_type": "execute_result"
    }
   ],
   "source": [
    "Df.sample(15)"
   ]
  },
  {
   "cell_type": "code",
   "execution_count": 9,
   "metadata": {},
   "outputs": [
    {
     "data": {
      "text/plain": [
       "Mthly_HH_Income             0\n",
       "Mthly_HH_Expense            0\n",
       "No_of_Fly_Members           0\n",
       "Emi_or_Rent_Amt             0\n",
       "Annual_HH_Income            0\n",
       "Highest_Qualified_Member    0\n",
       "No_of_Earning_Members       0\n",
       "dtype: int64"
      ]
     },
     "execution_count": 9,
     "metadata": {},
     "output_type": "execute_result"
    }
   ],
   "source": [
    "Df.isnull().sum()"
   ]
  },
  {
   "cell_type": "code",
   "execution_count": 10,
   "metadata": {},
   "outputs": [
    {
     "data": {
      "text/plain": [
       "(50, 7)"
      ]
     },
     "execution_count": 10,
     "metadata": {},
     "output_type": "execute_result"
    }
   ],
   "source": [
    "Df.shape"
   ]
  },
  {
   "cell_type": "code",
   "execution_count": 12,
   "metadata": {},
   "outputs": [
    {
     "data": {
      "text/html": [
       "<div>\n",
       "<style scoped>\n",
       "    .dataframe tbody tr th:only-of-type {\n",
       "        vertical-align: middle;\n",
       "    }\n",
       "\n",
       "    .dataframe tbody tr th {\n",
       "        vertical-align: top;\n",
       "    }\n",
       "\n",
       "    .dataframe thead th {\n",
       "        text-align: right;\n",
       "    }\n",
       "</style>\n",
       "<table border=\"1\" class=\"dataframe\">\n",
       "  <thead>\n",
       "    <tr style=\"text-align: right;\">\n",
       "      <th></th>\n",
       "      <th>Mthly_HH_Income</th>\n",
       "      <th>Mthly_HH_Expense</th>\n",
       "      <th>No_of_Fly_Members</th>\n",
       "      <th>Emi_or_Rent_Amt</th>\n",
       "      <th>Annual_HH_Income</th>\n",
       "      <th>Highest_Qualified_Member</th>\n",
       "      <th>No_of_Earning_Members</th>\n",
       "    </tr>\n",
       "  </thead>\n",
       "  <tbody>\n",
       "    <tr>\n",
       "      <th>count</th>\n",
       "      <td>50.000000</td>\n",
       "      <td>50.000000</td>\n",
       "      <td>50.000000</td>\n",
       "      <td>50.000000</td>\n",
       "      <td>5.000000e+01</td>\n",
       "      <td>50</td>\n",
       "      <td>50.000000</td>\n",
       "    </tr>\n",
       "    <tr>\n",
       "      <th>unique</th>\n",
       "      <td>NaN</td>\n",
       "      <td>NaN</td>\n",
       "      <td>NaN</td>\n",
       "      <td>NaN</td>\n",
       "      <td>NaN</td>\n",
       "      <td>5</td>\n",
       "      <td>NaN</td>\n",
       "    </tr>\n",
       "    <tr>\n",
       "      <th>top</th>\n",
       "      <td>NaN</td>\n",
       "      <td>NaN</td>\n",
       "      <td>NaN</td>\n",
       "      <td>NaN</td>\n",
       "      <td>NaN</td>\n",
       "      <td>Graduate</td>\n",
       "      <td>NaN</td>\n",
       "    </tr>\n",
       "    <tr>\n",
       "      <th>freq</th>\n",
       "      <td>NaN</td>\n",
       "      <td>NaN</td>\n",
       "      <td>NaN</td>\n",
       "      <td>NaN</td>\n",
       "      <td>NaN</td>\n",
       "      <td>19</td>\n",
       "      <td>NaN</td>\n",
       "    </tr>\n",
       "    <tr>\n",
       "      <th>mean</th>\n",
       "      <td>41558.000000</td>\n",
       "      <td>18818.000000</td>\n",
       "      <td>4.060000</td>\n",
       "      <td>3060.000000</td>\n",
       "      <td>4.900190e+05</td>\n",
       "      <td>NaN</td>\n",
       "      <td>1.460000</td>\n",
       "    </tr>\n",
       "    <tr>\n",
       "      <th>std</th>\n",
       "      <td>26097.908979</td>\n",
       "      <td>12090.216824</td>\n",
       "      <td>1.517382</td>\n",
       "      <td>6241.434948</td>\n",
       "      <td>3.201358e+05</td>\n",
       "      <td>NaN</td>\n",
       "      <td>0.734291</td>\n",
       "    </tr>\n",
       "    <tr>\n",
       "      <th>min</th>\n",
       "      <td>5000.000000</td>\n",
       "      <td>2000.000000</td>\n",
       "      <td>1.000000</td>\n",
       "      <td>0.000000</td>\n",
       "      <td>6.420000e+04</td>\n",
       "      <td>NaN</td>\n",
       "      <td>1.000000</td>\n",
       "    </tr>\n",
       "    <tr>\n",
       "      <th>25%</th>\n",
       "      <td>23550.000000</td>\n",
       "      <td>10000.000000</td>\n",
       "      <td>3.000000</td>\n",
       "      <td>0.000000</td>\n",
       "      <td>2.587500e+05</td>\n",
       "      <td>NaN</td>\n",
       "      <td>1.000000</td>\n",
       "    </tr>\n",
       "    <tr>\n",
       "      <th>50%</th>\n",
       "      <td>35000.000000</td>\n",
       "      <td>15500.000000</td>\n",
       "      <td>4.000000</td>\n",
       "      <td>0.000000</td>\n",
       "      <td>4.474200e+05</td>\n",
       "      <td>NaN</td>\n",
       "      <td>1.000000</td>\n",
       "    </tr>\n",
       "    <tr>\n",
       "      <th>75%</th>\n",
       "      <td>50375.000000</td>\n",
       "      <td>25000.000000</td>\n",
       "      <td>5.000000</td>\n",
       "      <td>3500.000000</td>\n",
       "      <td>5.947200e+05</td>\n",
       "      <td>NaN</td>\n",
       "      <td>2.000000</td>\n",
       "    </tr>\n",
       "    <tr>\n",
       "      <th>max</th>\n",
       "      <td>100000.000000</td>\n",
       "      <td>50000.000000</td>\n",
       "      <td>7.000000</td>\n",
       "      <td>35000.000000</td>\n",
       "      <td>1.404000e+06</td>\n",
       "      <td>NaN</td>\n",
       "      <td>4.000000</td>\n",
       "    </tr>\n",
       "  </tbody>\n",
       "</table>\n",
       "</div>"
      ],
      "text/plain": [
       "        Mthly_HH_Income  Mthly_HH_Expense  No_of_Fly_Members  Emi_or_Rent_Amt  \\\n",
       "count         50.000000         50.000000          50.000000        50.000000   \n",
       "unique              NaN               NaN                NaN              NaN   \n",
       "top                 NaN               NaN                NaN              NaN   \n",
       "freq                NaN               NaN                NaN              NaN   \n",
       "mean       41558.000000      18818.000000           4.060000      3060.000000   \n",
       "std        26097.908979      12090.216824           1.517382      6241.434948   \n",
       "min         5000.000000       2000.000000           1.000000         0.000000   \n",
       "25%        23550.000000      10000.000000           3.000000         0.000000   \n",
       "50%        35000.000000      15500.000000           4.000000         0.000000   \n",
       "75%        50375.000000      25000.000000           5.000000      3500.000000   \n",
       "max       100000.000000      50000.000000           7.000000     35000.000000   \n",
       "\n",
       "        Annual_HH_Income Highest_Qualified_Member  No_of_Earning_Members  \n",
       "count       5.000000e+01                       50              50.000000  \n",
       "unique               NaN                        5                    NaN  \n",
       "top                  NaN                 Graduate                    NaN  \n",
       "freq                 NaN                       19                    NaN  \n",
       "mean        4.900190e+05                      NaN               1.460000  \n",
       "std         3.201358e+05                      NaN               0.734291  \n",
       "min         6.420000e+04                      NaN               1.000000  \n",
       "25%         2.587500e+05                      NaN               1.000000  \n",
       "50%         4.474200e+05                      NaN               1.000000  \n",
       "75%         5.947200e+05                      NaN               2.000000  \n",
       "max         1.404000e+06                      NaN               4.000000  "
      ]
     },
     "execution_count": 12,
     "metadata": {},
     "output_type": "execute_result"
    }
   ],
   "source": [
    "Df.describe(include=\"all\")"
   ]
  },
  {
   "cell_type": "code",
   "execution_count": 6,
   "metadata": {},
   "outputs": [
    {
     "data": {
      "text/plain": [
       "Mthly_HH_Income              int64\n",
       "Mthly_HH_Expense             int64\n",
       "No_of_Fly_Members            int64\n",
       "Emi_or_Rent_Amt              int64\n",
       "Annual_HH_Income             int64\n",
       "Highest_Qualified_Member    object\n",
       "No_of_Earning_Members        int64\n",
       "dtype: object"
      ]
     },
     "execution_count": 6,
     "metadata": {},
     "output_type": "execute_result"
    }
   ],
   "source": [
    "Df.dtypes"
   ]
  },
  {
   "cell_type": "code",
   "execution_count": 21,
   "metadata": {},
   "outputs": [
    {
     "data": {
      "image/png": "[encoded data removed]",
      "text/plain": [
       "<Figure size 640x480 with 1 Axes>"
      ]
     },
     "metadata": {},
     "output_type": "display_data"
    }
   ],
   "source": [
    "sns.countplot(x=\"No_of_Fly_Members\",data=Df)\n",
    "plt.show()"
   ]
  },
  {
   "cell_type": "code",
   "execution_count": 24,
   "metadata": {},
   "outputs": [
    {
     "data": {
      "text/plain": [
       "4    15\n",
       "6    10\n",
       "3     9\n",
       "2     8\n",
       "5     5\n",
       "7     2\n",
       "1     1\n",
       "Name: No_of_Fly_Members, dtype: int64"
      ]
     },
     "execution_count": 24,
     "metadata": {},
     "output_type": "execute_result"
    }
   ],
   "source": [
    "Df[\"No_of_Fly_Members\"].value_counts()"
   ]
  },
  {
   "cell_type": "code",
   "execution_count": 25,
   "metadata": {},
   "outputs": [
    {
     "data": {
      "image/png": "[encoded data removed]",
      "text/plain": [
       "<Figure size 640x480 with 1 Axes>"
      ]
     },
     "metadata": {},
     "output_type": "display_data"
    }
   ],
   "source": [
    "sns.countplot(x=\"Highest_Qualified_Member\",data=Df)\n",
    "plt.show()"
   ]
  },
  {
   "cell_type": "code",
   "execution_count": 26,
   "metadata": {},
   "outputs": [
    {
     "data": {
      "text/plain": [
       "Graduate          19\n",
       "Under-Graduate    10\n",
       "Professional      10\n",
       "Post-Graduate      6\n",
       "Illiterate         5\n",
       "Name: Highest_Qualified_Member, dtype: int64"
      ]
     },
     "execution_count": 26,
     "metadata": {},
     "output_type": "execute_result"
    }
   ],
   "source": [
    "Df[\"Highest_Qualified_Member\"].value_counts()"
   ]
  },
  {
   "cell_type": "code",
   "execution_count": 27,
   "metadata": {},
   "outputs": [
    {
     "data": {
      "image/png": "[encoded data removed]",
      "text/plain": [
       "<Figure size 640x480 with 1 Axes>"
      ]
     },
     "metadata": {},
     "output_type": "display_data"
    }
   ],
   "source": [
    "sns.countplot(x=\"No_of_Earning_Members\",data=Df)\n",
    "plt.show()"
   ]
  },
  {
   "cell_type": "code",
   "execution_count": 28,
   "metadata": {},
   "outputs": [
    {
     "data": {
      "text/plain": [
       "1    33\n",
       "2    12\n",
       "3     4\n",
       "4     1\n",
       "Name: No_of_Earning_Members, dtype: int64"
      ]
     },
     "execution_count": 28,
     "metadata": {},
     "output_type": "execute_result"
    }
   ],
   "source": [
    "Df[\"No_of_Earning_Members\"].value_counts()"
   ]
  },
  {
   "cell_type": "code",
   "execution_count": 7,
   "metadata": {},
   "outputs": [
    {
     "data": {
      "image/png": "[encoded data removed]",
      "text/plain": [
       "<Figure size 1500x1500 with 42 Axes>"
      ]
     },
     "metadata": {},
     "output_type": "display_data"
    }
   ],
   "source": [
    "sns.pairplot(Df)\n",
    "plt.show()\n"
   ]
  },
  {
   "cell_type": "markdown",
   "metadata": {},
   "source": [
    "# 4.What is the Mean Expense of a Household?"
   ]
  },
  {
   "cell_type": "code",
   "execution_count": 46,
   "metadata": {},
   "outputs": [
    {
     "name": "stdout",
     "output_type": "stream",
     "text": [
      "18818.0\n"
     ]
    }
   ],
   "source": [
    "Mean_Exp_of_household = df[\"Mthly_HH_Expense\"].mean()\n",
    "print(Mean_Exp_of_household)"
   ]
  },
  {
   "cell_type": "markdown",
   "metadata": {},
   "source": [
    "# 5.What is the Median Household Expense?"
   ]
  },
  {
   "cell_type": "code",
   "execution_count": 47,
   "metadata": {},
   "outputs": [
    {
     "name": "stdout",
     "output_type": "stream",
     "text": [
      "15500.0\n"
     ]
    }
   ],
   "source": [
    "Median_Exp_of_household = df[\"Mthly_HH_Expense\"].median()\n",
    "print(Median_Exp_of_household)"
   ]
  },
  {
   "cell_type": "markdown",
   "metadata": {},
   "source": [
    "# 6.What is the Monthly Expense for most of the Households?"
   ]
  },
  {
   "cell_type": "code",
   "execution_count": 48,
   "metadata": {},
   "outputs": [
    {
     "name": "stdout",
     "output_type": "stream",
     "text": [
      "0    25000\n",
      "Name: Mthly_HH_Expense, dtype: int64\n"
     ]
    }
   ],
   "source": [
    "Most_Exp_of_household = df[\"Mthly_HH_Expense\"].mode()\n",
    "print(Most_Exp_of_household)"
   ]
  },
  {
   "cell_type": "markdown",
   "metadata": {},
   "source": [
    "# 7.Plot the Histogram to count the Highest qualified member"
   ]
  },
  {
   "cell_type": "code",
   "execution_count": 8,
   "metadata": {},
   "outputs": [
    {
     "data": {
      "text/plain": [
       "Graduate          19\n",
       "Under-Graduate    10\n",
       "Professional      10\n",
       "Post-Graduate      6\n",
       "Illiterate         5\n",
       "Name: Highest_Qualified_Member, dtype: int64"
      ]
     },
     "execution_count": 8,
     "metadata": {},
     "output_type": "execute_result"
    }
   ],
   "source": [
    "Df.Highest_Qualified_Member.value_counts()"
   ]
  },
  {
   "cell_type": "code",
   "execution_count": 11,
   "metadata": {},
   "outputs": [
    {
     "data": {
      "image/png": "[encoded data removed]",
      "text/plain": [
       "<Figure size 640x480 with 1 Axes>"
      ]
     },
     "metadata": {},
     "output_type": "display_data"
    }
   ],
   "source": [
    "sns.countplot(x=Df.Highest_Qualified_Member,order=Df['Highest_Qualified_Member'].value_counts(ascending=False).index)\n",
    "plt.xlabel(\"Highest qualified member\",c='green')\n",
    "plt.show()"
   ]
  },
  {
   "cell_type": "markdown",
   "metadata": {},
   "source": [
    "# 8.Calculate IQR(difference between 75% and 25% quartile)"
   ]
  },
  {
   "cell_type": "code",
   "execution_count": 13,
   "metadata": {},
   "outputs": [
    {
     "data": {
      "text/plain": [
       "0.25    23550.0\n",
       "Name: Mthly_HH_Income, dtype: float64"
      ]
     },
     "execution_count": 13,
     "metadata": {},
     "output_type": "execute_result"
    }
   ],
   "source": [
    "Q1=Df.Mthly_HH_Income.quantile([.25])\n",
    "Q1"
   ]
  },
  {
   "cell_type": "code",
   "execution_count": 14,
   "metadata": {},
   "outputs": [
    {
     "data": {
      "text/html": [
       "<div>\n",
       "<style scoped>\n",
       "    .dataframe tbody tr th:only-of-type {\n",
       "        vertical-align: middle;\n",
       "    }\n",
       "\n",
       "    .dataframe tbody tr th {\n",
       "        vertical-align: top;\n",
       "    }\n",
       "\n",
       "    .dataframe thead th {\n",
       "        text-align: right;\n",
       "    }\n",
       "</style>\n",
       "<table border=\"1\" class=\"dataframe\">\n",
       "  <thead>\n",
       "    <tr style=\"text-align: right;\">\n",
       "      <th></th>\n",
       "      <th>Mthly_HH_Income</th>\n",
       "    </tr>\n",
       "  </thead>\n",
       "  <tbody>\n",
       "    <tr>\n",
       "      <th>0.75</th>\n",
       "      <td>50375.0</td>\n",
       "    </tr>\n",
       "  </tbody>\n",
       "</table>\n",
       "</div>"
      ],
      "text/plain": [
       "      Mthly_HH_Income\n",
       "0.75          50375.0"
      ]
     },
     "execution_count": 14,
     "metadata": {},
     "output_type": "execute_result"
    }
   ],
   "source": [
    "Q3=pd.DataFrame(Df.Mthly_HH_Income.quantile([.75]))\n",
    "Q3"
   ]
  },
  {
   "cell_type": "code",
   "execution_count": 15,
   "metadata": {},
   "outputs": [
    {
     "name": "stdout",
     "output_type": "stream",
     "text": [
      "26825.0\n"
     ]
    }
   ],
   "source": [
    "#IQR Calculations for 'Mthly_HH_Income' column\n",
    "\n",
    "quartiles = Df['Mthly_HH_Income'].quantile([0.25, 0.75])\n",
    "iqr = quartiles[0.75] - quartiles[0.25]\n",
    "print(iqr)"
   ]
  },
  {
   "cell_type": "code",
   "execution_count": 16,
   "metadata": {},
   "outputs": [
    {
     "data": {
      "text/html": [
       "<div>\n",
       "<style scoped>\n",
       "    .dataframe tbody tr th:only-of-type {\n",
       "        vertical-align: middle;\n",
       "    }\n",
       "\n",
       "    .dataframe tbody tr th {\n",
       "        vertical-align: top;\n",
       "    }\n",
       "\n",
       "    .dataframe thead th {\n",
       "        text-align: right;\n",
       "    }\n",
       "</style>\n",
       "<table border=\"1\" class=\"dataframe\">\n",
       "  <thead>\n",
       "    <tr style=\"text-align: right;\">\n",
       "      <th></th>\n",
       "      <th>Mthly_HH_Income</th>\n",
       "      <th>Mthly_HH_Expense</th>\n",
       "      <th>No_of_Fly_Members</th>\n",
       "      <th>Emi_or_Rent_Amt</th>\n",
       "      <th>Annual_HH_Income</th>\n",
       "      <th>No_of_Earning_Members</th>\n",
       "    </tr>\n",
       "  </thead>\n",
       "  <tbody>\n",
       "    <tr>\n",
       "      <th>0.25</th>\n",
       "      <td>23550.0</td>\n",
       "      <td>10000.0</td>\n",
       "      <td>3.0</td>\n",
       "      <td>0.0</td>\n",
       "      <td>258750.0</td>\n",
       "      <td>1.0</td>\n",
       "    </tr>\n",
       "    <tr>\n",
       "      <th>0.50</th>\n",
       "      <td>35000.0</td>\n",
       "      <td>15500.0</td>\n",
       "      <td>4.0</td>\n",
       "      <td>0.0</td>\n",
       "      <td>447420.0</td>\n",
       "      <td>1.0</td>\n",
       "    </tr>\n",
       "    <tr>\n",
       "      <th>0.75</th>\n",
       "      <td>50375.0</td>\n",
       "      <td>25000.0</td>\n",
       "      <td>5.0</td>\n",
       "      <td>3500.0</td>\n",
       "      <td>594720.0</td>\n",
       "      <td>2.0</td>\n",
       "    </tr>\n",
       "  </tbody>\n",
       "</table>\n",
       "</div>"
      ],
      "text/plain": [
       "      Mthly_HH_Income  Mthly_HH_Expense  No_of_Fly_Members  Emi_or_Rent_Amt  \\\n",
       "0.25          23550.0           10000.0                3.0              0.0   \n",
       "0.50          35000.0           15500.0                4.0              0.0   \n",
       "0.75          50375.0           25000.0                5.0           3500.0   \n",
       "\n",
       "      Annual_HH_Income  No_of_Earning_Members  \n",
       "0.25          258750.0                    1.0  \n",
       "0.50          447420.0                    1.0  \n",
       "0.75          594720.0                    2.0  "
      ]
     },
     "execution_count": 16,
     "metadata": {},
     "output_type": "execute_result"
    }
   ],
   "source": [
    "Df.quantile(q=[0.25, 0.5, 0.75], axis=0, numeric_only=True)"
   ]
  },
  {
   "cell_type": "code",
   "execution_count": 18,
   "metadata": {},
   "outputs": [
    {
     "data": {
      "text/html": [
       "<div>\n",
       "<style scoped>\n",
       "    .dataframe tbody tr th:only-of-type {\n",
       "        vertical-align: middle;\n",
       "    }\n",
       "\n",
       "    .dataframe tbody tr th {\n",
       "        vertical-align: top;\n",
       "    }\n",
       "\n",
       "    .dataframe thead th {\n",
       "        text-align: right;\n",
       "    }\n",
       "</style>\n",
       "<table border=\"1\" class=\"dataframe\">\n",
       "  <thead>\n",
       "    <tr style=\"text-align: right;\">\n",
       "      <th></th>\n",
       "      <th>IQR</th>\n",
       "    </tr>\n",
       "  </thead>\n",
       "  <tbody>\n",
       "    <tr>\n",
       "      <th>Mthly_HH_Income</th>\n",
       "      <td>26825.0</td>\n",
       "    </tr>\n",
       "    <tr>\n",
       "      <th>Mthly_HH_Expense</th>\n",
       "      <td>15000.0</td>\n",
       "    </tr>\n",
       "    <tr>\n",
       "      <th>No_of_Fly_Members</th>\n",
       "      <td>2.0</td>\n",
       "    </tr>\n",
       "    <tr>\n",
       "      <th>Emi_or_Rent_Amt</th>\n",
       "      <td>3500.0</td>\n",
       "    </tr>\n",
       "    <tr>\n",
       "      <th>Annual_HH_Income</th>\n",
       "      <td>335970.0</td>\n",
       "    </tr>\n",
       "    <tr>\n",
       "      <th>No_of_Earning_Members</th>\n",
       "      <td>1.0</td>\n",
       "    </tr>\n",
       "  </tbody>\n",
       "</table>\n",
       "</div>"
      ],
      "text/plain": [
       "                            IQR\n",
       "Mthly_HH_Income         26825.0\n",
       "Mthly_HH_Expense        15000.0\n",
       "No_of_Fly_Members           2.0\n",
       "Emi_or_Rent_Amt          3500.0\n",
       "Annual_HH_Income       335970.0\n",
       "No_of_Earning_Members       1.0"
      ]
     },
     "execution_count": 18,
     "metadata": {},
     "output_type": "execute_result"
    }
   ],
   "source": [
    "#IQR Calculations for all the numeric columns\n",
    "\n",
    "quartiles=Df.quantile(q=[0.25, 0.75], axis=0, numeric_only=True)\n",
    "IQR_All_Numeric_Columns=quartiles.loc[0.75]-quartiles.loc[0.25]\n",
    "IQR=pd.DataFrame(IQR_All_Numeric_Columns,columns=['IQR'])\n",
    "IQR"
   ]
  },
  {
   "cell_type": "code",
   "execution_count": 19,
   "metadata": {},
   "outputs": [
    {
     "data": {
      "text/plain": [
       "0     5000\n",
       "1     6000\n",
       "2    10000\n",
       "3    10000\n",
       "4    12500\n",
       "Name: Mthly_HH_Income, dtype: int64"
      ]
     },
     "execution_count": 19,
     "metadata": {},
     "output_type": "execute_result"
    }
   ],
   "source": [
    "Df.Mthly_HH_Income.head()"
   ]
  },
  {
   "cell_type": "code",
   "execution_count": 20,
   "metadata": {},
   "outputs": [
    {
     "data": {
      "text/html": [
       "<div>\n",
       "<style scoped>\n",
       "    .dataframe tbody tr th:only-of-type {\n",
       "        vertical-align: middle;\n",
       "    }\n",
       "\n",
       "    .dataframe tbody tr th {\n",
       "        vertical-align: top;\n",
       "    }\n",
       "\n",
       "    .dataframe thead th {\n",
       "        text-align: right;\n",
       "    }\n",
       "</style>\n",
       "<table border=\"1\" class=\"dataframe\">\n",
       "  <thead>\n",
       "    <tr style=\"text-align: right;\">\n",
       "      <th></th>\n",
       "      <th>IQR</th>\n",
       "      <th>0.25</th>\n",
       "    </tr>\n",
       "  </thead>\n",
       "  <tbody>\n",
       "    <tr>\n",
       "      <th>Mthly_HH_Income</th>\n",
       "      <td>NaN</td>\n",
       "      <td>NaN</td>\n",
       "    </tr>\n",
       "    <tr>\n",
       "      <th>Mthly_HH_Expense</th>\n",
       "      <td>NaN</td>\n",
       "      <td>NaN</td>\n",
       "    </tr>\n",
       "    <tr>\n",
       "      <th>No_of_Fly_Members</th>\n",
       "      <td>NaN</td>\n",
       "      <td>NaN</td>\n",
       "    </tr>\n",
       "    <tr>\n",
       "      <th>Emi_or_Rent_Amt</th>\n",
       "      <td>NaN</td>\n",
       "      <td>NaN</td>\n",
       "    </tr>\n",
       "    <tr>\n",
       "      <th>Annual_HH_Income</th>\n",
       "      <td>NaN</td>\n",
       "      <td>NaN</td>\n",
       "    </tr>\n",
       "    <tr>\n",
       "      <th>No_of_Earning_Members</th>\n",
       "      <td>NaN</td>\n",
       "      <td>NaN</td>\n",
       "    </tr>\n",
       "  </tbody>\n",
       "</table>\n",
       "</div>"
      ],
      "text/plain": [
       "                       IQR  0.25\n",
       "Mthly_HH_Income        NaN   NaN\n",
       "Mthly_HH_Expense       NaN   NaN\n",
       "No_of_Fly_Members      NaN   NaN\n",
       "Emi_or_Rent_Amt        NaN   NaN\n",
       "Annual_HH_Income       NaN   NaN\n",
       "No_of_Earning_Members  NaN   NaN"
      ]
     },
     "execution_count": 20,
     "metadata": {},
     "output_type": "execute_result"
    }
   ],
   "source": [
    "#Lower Outlier\n",
    "Q1-1.5*IQR"
   ]
  },
  {
   "cell_type": "code",
   "execution_count": 21,
   "metadata": {},
   "outputs": [
    {
     "data": {
      "text/html": [
       "<div>\n",
       "<style scoped>\n",
       "    .dataframe tbody tr th:only-of-type {\n",
       "        vertical-align: middle;\n",
       "    }\n",
       "\n",
       "    .dataframe tbody tr th {\n",
       "        vertical-align: top;\n",
       "    }\n",
       "\n",
       "    .dataframe thead th {\n",
       "        text-align: right;\n",
       "    }\n",
       "</style>\n",
       "<table border=\"1\" class=\"dataframe\">\n",
       "  <thead>\n",
       "    <tr style=\"text-align: right;\">\n",
       "      <th></th>\n",
       "      <th>IQR</th>\n",
       "      <th>Mthly_HH_Income</th>\n",
       "    </tr>\n",
       "  </thead>\n",
       "  <tbody>\n",
       "    <tr>\n",
       "      <th>0.75</th>\n",
       "      <td>NaN</td>\n",
       "      <td>NaN</td>\n",
       "    </tr>\n",
       "    <tr>\n",
       "      <th>Annual_HH_Income</th>\n",
       "      <td>NaN</td>\n",
       "      <td>NaN</td>\n",
       "    </tr>\n",
       "    <tr>\n",
       "      <th>Emi_or_Rent_Amt</th>\n",
       "      <td>NaN</td>\n",
       "      <td>NaN</td>\n",
       "    </tr>\n",
       "    <tr>\n",
       "      <th>Mthly_HH_Expense</th>\n",
       "      <td>NaN</td>\n",
       "      <td>NaN</td>\n",
       "    </tr>\n",
       "    <tr>\n",
       "      <th>Mthly_HH_Income</th>\n",
       "      <td>NaN</td>\n",
       "      <td>NaN</td>\n",
       "    </tr>\n",
       "    <tr>\n",
       "      <th>No_of_Earning_Members</th>\n",
       "      <td>NaN</td>\n",
       "      <td>NaN</td>\n",
       "    </tr>\n",
       "    <tr>\n",
       "      <th>No_of_Fly_Members</th>\n",
       "      <td>NaN</td>\n",
       "      <td>NaN</td>\n",
       "    </tr>\n",
       "  </tbody>\n",
       "</table>\n",
       "</div>"
      ],
      "text/plain": [
       "                       IQR  Mthly_HH_Income\n",
       "0.75                   NaN              NaN\n",
       "Annual_HH_Income       NaN              NaN\n",
       "Emi_or_Rent_Amt        NaN              NaN\n",
       "Mthly_HH_Expense       NaN              NaN\n",
       "Mthly_HH_Income        NaN              NaN\n",
       "No_of_Earning_Members  NaN              NaN\n",
       "No_of_Fly_Members      NaN              NaN"
      ]
     },
     "execution_count": 21,
     "metadata": {},
     "output_type": "execute_result"
    }
   ],
   "source": [
    "#Upper Outlier\n",
    "Q3+1.5*IQR"
   ]
  },
  {
   "cell_type": "code",
   "execution_count": 22,
   "metadata": {},
   "outputs": [
    {
     "data": {
      "text/plain": [
       "46     98000\n",
       "47    100000\n",
       "48    100000\n",
       "49    100000\n",
       "Name: Mthly_HH_Income, dtype: int64"
      ]
     },
     "execution_count": 22,
     "metadata": {},
     "output_type": "execute_result"
    }
   ],
   "source": [
    "Df[(Df.Mthly_HH_Income>90612.5)]['Mthly_HH_Income']"
   ]
  },
  {
   "cell_type": "markdown",
   "metadata": {},
   "source": [
    "# 9.Calculate Standard Deviation for first 4 columns."
   ]
  },
  {
   "cell_type": "code",
   "execution_count": 53,
   "metadata": {},
   "outputs": [
    {
     "name": "stdout",
     "output_type": "stream",
     "text": [
      "26097.908978713687\n"
     ]
    }
   ],
   "source": [
    "print(Df['Mthly_HH_Income'].std())"
   ]
  },
  {
   "cell_type": "code",
   "execution_count": 54,
   "metadata": {},
   "outputs": [
    {
     "name": "stdout",
     "output_type": "stream",
     "text": [
      "12090.216824240286\n"
     ]
    }
   ],
   "source": [
    "print(Df['Mthly_HH_Expense'].std())"
   ]
  },
  {
   "cell_type": "code",
   "execution_count": 55,
   "metadata": {},
   "outputs": [
    {
     "name": "stdout",
     "output_type": "stream",
     "text": [
      "1.5173822786601394\n"
     ]
    }
   ],
   "source": [
    "print(Df['No_of_Fly_Members'].std())"
   ]
  },
  {
   "cell_type": "code",
   "execution_count": 56,
   "metadata": {},
   "outputs": [
    {
     "name": "stdout",
     "output_type": "stream",
     "text": [
      "6241.434947516607\n"
     ]
    }
   ],
   "source": [
    "print(Df['Emi_or_Rent_Amt'].std())"
   ]
  },
  {
   "cell_type": "markdown",
   "metadata": {},
   "source": [
    "# 10.Calculate Variance for first 3 columns."
   ]
  },
  {
   "cell_type": "code",
   "execution_count": 57,
   "metadata": {},
   "outputs": [
    {
     "name": "stdout",
     "output_type": "stream",
     "text": [
      "681100853.0612245\n"
     ]
    }
   ],
   "source": [
    "print(Df['Mthly_HH_Income'].var())"
   ]
  },
  {
   "cell_type": "code",
   "execution_count": 58,
   "metadata": {},
   "outputs": [
    {
     "name": "stdout",
     "output_type": "stream",
     "text": [
      "146173342.85714287\n"
     ]
    }
   ],
   "source": [
    "print(Df['Mthly_HH_Expense'].var())"
   ]
  },
  {
   "cell_type": "code",
   "execution_count": 59,
   "metadata": {},
   "outputs": [
    {
     "name": "stdout",
     "output_type": "stream",
     "text": [
      "2.302448979591837\n"
     ]
    }
   ],
   "source": [
    "print(Df['No_of_Fly_Members'].var())"
   ]
  },
  {
   "cell_type": "markdown",
   "metadata": {},
   "source": [
    "# 11.Calculate the count of Highest qualified member."
   ]
  },
  {
   "cell_type": "code",
   "execution_count": 62,
   "metadata": {},
   "outputs": [
    {
     "data": {
      "text/plain": [
       "Graduate          19\n",
       "Under-Graduate    10\n",
       "Professional      10\n",
       "Post-Graduate      6\n",
       "Illiterate         5\n",
       "Name: Highest_Qualified_Member, dtype: int64"
      ]
     },
     "execution_count": 62,
     "metadata": {},
     "output_type": "execute_result"
    }
   ],
   "source": [
    "Df[\"Highest_Qualified_Member\"].value_counts()"
   ]
  },
  {
   "cell_type": "code",
   "execution_count": 25,
   "metadata": {},
   "outputs": [
    {
     "data": {
      "text/plain": [
       "Graduate    19\n",
       "Name: Highest_Qualified_Member, dtype: int64"
      ]
     },
     "execution_count": 25,
     "metadata": {},
     "output_type": "execute_result"
    }
   ],
   "source": [
    "Df.Highest_Qualified_Member.value_counts().head(1)"
   ]
  },
  {
   "cell_type": "markdown",
   "metadata": {},
   "source": [
    "# 12.Plot the Histogram to count the No_of_Earning_Members"
   ]
  },
  {
   "cell_type": "code",
   "execution_count": 26,
   "metadata": {},
   "outputs": [
    {
     "data": {
      "image/png": "[encoded data removed]",
      "text/plain": [
       "<Figure size 640x480 with 1 Axes>"
      ]
     },
     "metadata": {},
     "output_type": "display_data"
    }
   ],
   "source": [
    "sns.histplot(x='No_of_Earning_Members',data=Df)\n",
    "plt.xlabel(\"Number of Earning Members\",c='green')\n",
    "plt.show()"
   ]
  },
  {
   "cell_type": "code",
   "execution_count": 28,
   "metadata": {},
   "outputs": [
    {
     "data": {
      "text/plain": [
       "array([1, 2, 3, 4], dtype=int64)"
      ]
     },
     "execution_count": 28,
     "metadata": {},
     "output_type": "execute_result"
    }
   ],
   "source": [
    "Df.No_of_Earning_Members.unique()"
   ]
  },
  {
   "cell_type": "markdown",
   "metadata": {},
   "source": [
    "# 13.Suppose you have option to invest in Stock A or Stock B. The stocks • have different expected returns and standard deviations. The expected return of Stock A is 15% and Stock B is 10%. Standard Deviation of the returns of these stocks is 10% and 5% respectively.\n",
    "\n",
    "Which is better investment?"
   ]
  },
  {
   "cell_type": "markdown",
   "metadata": {},
   "source": [
    "### I will invest in stock B because stock B is more stable than stock A , coz it has less standard deviation.\n",
    "###    formula-\n",
    "###    Actual Return=Expected Return-Standard Deviation\n",
    "###    So for Stock A->15%-10%=5%\n",
    "###    And for Stock B->10%-5%=5%\n",
    "###    Here B stock is Stable & A is volatile So A is a risky asset, So I will prefer B \n",
    "   "
   ]
  },
  {
   "cell_type": "code",
   "execution_count": null,
   "metadata": {},
   "outputs": [],
   "source": []
  }
 ],
 "metadata": {
  "kernelspec": {
   "display_name": "Python 3 (ipykernel)",
   "language": "python",
   "name": "python3"
  },
  "language_info": {
   "codemirror_mode": {
    "name": "ipython",
    "version": 3
   },
   "file_extension": ".py",
   "mimetype": "text/x-python",
   "name": "python",
   "nbconvert_exporter": "python",
   "pygments_lexer": "ipython3",
   "version": "3.10.9"
  }
 },
 "nbformat": 4,
 "nbformat_minor": 2
}
