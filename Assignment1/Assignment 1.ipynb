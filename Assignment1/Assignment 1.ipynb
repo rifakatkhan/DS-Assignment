{
 "cells": [
  {
   "cell_type": "markdown",
   "id": "e63b6689",
   "metadata": {},
   "source": [
    "### Assignment 1"
   ]
  },
  {
   "cell_type": "markdown",
   "id": "37150b56",
   "metadata": {},
   "source": [
    "#### ans.1"
   ]
  },
  {
   "cell_type": "code",
   "execution_count": 6,
   "id": "7bee9965",
   "metadata": {},
   "outputs": [
    {
     "data": {
      "text/plain": [
       "(1, 2, 3, 4)"
      ]
     },
     "execution_count": 6,
     "metadata": {},
     "output_type": "execute_result"
    }
   ],
   "source": [
    "Value1 = (1,2)\n",
    "Value2 = (3,4)\n",
    "Data_tuple =Value1+Value2\n",
    "Data_tuple\n"
   ]
  },
  {
   "cell_type": "markdown",
   "id": "f657f0f4",
   "metadata": {},
   "source": [
    "#### ans.2"
   ]
  },
  {
   "cell_type": "code",
   "execution_count": 1,
   "id": "a2b2b562",
   "metadata": {},
   "outputs": [
    {
     "data": {
      "text/plain": [
       "[4, 3, 2, 1]"
      ]
     },
     "execution_count": 1,
     "metadata": {},
     "output_type": "execute_result"
    }
   ],
   "source": [
    "Numbers=[4,3,2,1]\n",
    "Numbers"
   ]
  },
  {
   "cell_type": "markdown",
   "id": "b111e590",
   "metadata": {},
   "source": [
    "#### ans.3"
   ]
  },
  {
   "cell_type": "code",
   "execution_count": 8,
   "id": "5a52acca",
   "metadata": {},
   "outputs": [
    {
     "data": {
      "text/plain": [
       "[4, 3, 2, 1]"
      ]
     },
     "execution_count": 8,
     "metadata": {},
     "output_type": "execute_result"
    }
   ],
   "source": [
    "Numbers=[4,3,2,1]\n",
    "copy_num=Numbers[:]\n",
    "copy_num"
   ]
  },
  {
   "cell_type": "markdown",
   "id": "72d68539",
   "metadata": {},
   "source": [
    "#### ans.4"
   ]
  },
  {
   "cell_type": "code",
   "execution_count": 6,
   "id": "951ebe3f",
   "metadata": {},
   "outputs": [
    {
     "name": "stdout",
     "output_type": "stream",
     "text": [
      "[1, 2, 3, 4]\n"
     ]
    }
   ],
   "source": [
    "Numbers.sort()\n",
    "print(Numbers)"
   ]
  },
  {
   "cell_type": "markdown",
   "id": "a20fa4b5",
   "metadata": {},
   "source": [
    "#### ans.5"
   ]
  },
  {
   "cell_type": "code",
   "execution_count": 7,
   "id": "1d0bd5da",
   "metadata": {},
   "outputs": [
    {
     "data": {
      "text/plain": [
       "('first', 'second', 'third')"
      ]
     },
     "execution_count": 7,
     "metadata": {},
     "output_type": "execute_result"
    }
   ],
   "source": [
    "cardinal_numbers=(\"first\", \"second\", \"third\")\n",
    "cardinal_numbers"
   ]
  },
  {
   "cell_type": "markdown",
   "id": "a90da36e",
   "metadata": {},
   "source": [
    "#### ans.6"
   ]
  },
  {
   "cell_type": "code",
   "execution_count": 10,
   "id": "14111bbe",
   "metadata": {},
   "outputs": [
    {
     "name": "stdout",
     "output_type": "stream",
     "text": [
      "second\n"
     ]
    }
   ],
   "source": [
    "print(cardinal_numbers[1])"
   ]
  },
  {
   "cell_type": "markdown",
   "id": "38239d1d",
   "metadata": {},
   "source": [
    "#### ans.7"
   ]
  },
  {
   "cell_type": "code",
   "execution_count": 11,
   "id": "b6e11da4",
   "metadata": {},
   "outputs": [
    {
     "name": "stdout",
     "output_type": "stream",
     "text": [
      "first\n",
      "second\n",
      "third\n"
     ]
    }
   ],
   "source": [
    "(one, two, three) = cardinal_numbers\n",
    "\n",
    "print(one)\n",
    "print(two)\n",
    "print(three)"
   ]
  },
  {
   "cell_type": "markdown",
   "id": "449586a9",
   "metadata": {},
   "source": [
    "#### ans.8"
   ]
  },
  {
   "cell_type": "code",
   "execution_count": 20,
   "id": "b5e7476d",
   "metadata": {},
   "outputs": [
    {
     "name": "stdout",
     "output_type": "stream",
     "text": [
      "r,i,f,a,k,a,t\n"
     ]
    },
    {
     "data": {
      "text/plain": [
       "('r,i,f,a,k,a,t',)"
      ]
     },
     "execution_count": 20,
     "metadata": {},
     "output_type": "execute_result"
    }
   ],
   "source": [
    "string=\"r,i,f,a,k,a,t\"\n",
    "print(string)\n",
    "my_name = tuple (string.split())\n",
    "my_name"
   ]
  },
  {
   "cell_type": "markdown",
   "id": "da253b58",
   "metadata": {},
   "source": [
    "#### ans 9"
   ]
  },
  {
   "cell_type": "code",
   "execution_count": 26,
   "id": "0362d777",
   "metadata": {},
   "outputs": [
    {
     "name": "stdout",
     "output_type": "stream",
     "text": [
      "False\n",
      "True\n"
     ]
    }
   ],
   "source": [
    "print('x' in my_name)\n",
    "print('x' not in my_name)"
   ]
  },
  {
   "cell_type": "markdown",
   "id": "9209548f",
   "metadata": {},
   "source": [
    "#### ans 10"
   ]
  },
  {
   "cell_type": "code",
   "execution_count": 27,
   "id": "d77dfdb8",
   "metadata": {},
   "outputs": [
    {
     "name": "stdout",
     "output_type": "stream",
     "text": [
      "False\n",
      "True\n"
     ]
    }
   ],
   "source": [
    "print('s' in my_name)\n",
    "print('s' not in my_name)"
   ]
  },
  {
   "cell_type": "code",
   "execution_count": null,
   "id": "386e4e57",
   "metadata": {},
   "outputs": [],
   "source": []
  }
 ],
 "metadata": {
  "kernelspec": {
   "display_name": "Python 3 (ipykernel)",
   "language": "python",
   "name": "python3"
  },
  "language_info": {
   "codemirror_mode": {
    "name": "ipython",
    "version": 3
   },
   "file_extension": ".py",
   "mimetype": "text/x-python",
   "name": "python",
   "nbconvert_exporter": "python",
   "pygments_lexer": "ipython3",
   "version": "3.10.9"
  }
 },
 "nbformat": 4,
 "nbformat_minor": 5
}
